{
  "nbformat": 4,
  "nbformat_minor": 0,
  "metadata": {
    "accelerator": "GPU",
    "colab": {
      "name": "trainModel.ipynb",
      "provenance": [],
      "collapsed_sections": []
    },
    "kernelspec": {
      "display_name": "Python 3",
      "name": "python3"
    },
    "language_info": {
      "name": "python"
    }
  },
  "cells": [
    {
      "cell_type": "markdown",
      "metadata": {
        "id": "Nm66LOnuQTIb"
      },
      "source": [
        ""
      ]
    },
    {
      "cell_type": "code",
      "metadata": {
        "id": "MWohXa7sQdtU"
      },
      "source": [
        "from tensorflow.keras.preprocessing.image import ImageDataGenerator\n",
        "from tensorflow.keras.applications import MobileNetV2\n",
        "from tensorflow.keras.layers import AveragePooling2D\n",
        "from tensorflow.keras.layers import Dropout\n",
        "from tensorflow.keras.layers import Flatten\n",
        "from tensorflow.keras.layers import Dense\n",
        "from tensorflow.keras.layers import Input\n",
        "from tensorflow.keras.models import Model\n",
        "from tensorflow.keras.optimizers import Adam\n",
        "\n",
        "from tensorflow.keras.applications.mobilenet_v2 import preprocess_input\n",
        "from tensorflow.keras.preprocessing.image import img_to_array\n",
        "from tensorflow.keras.preprocessing.image import load_img\n",
        "from tensorflow.keras.utils import to_categorical\n",
        "from sklearn.preprocessing import LabelBinarizer\n",
        "from sklearn.model_selection import train_test_split\n",
        "from sklearn.metrics import classification_report\n",
        "from imutils import paths\n",
        "import matplotlib.pyplot as plt\n",
        "import numpy as np\n",
        "import argparse\n",
        "import random\n",
        "import os"
      ],
      "execution_count": null,
      "outputs": []
    },
    {
      "cell_type": "markdown",
      "metadata": {
        "id": "9MCe4g2iQenG"
      },
      "source": [
        ""
      ]
    },
    {
      "cell_type": "code",
      "metadata": {
        "colab": {
          "base_uri": "https://localhost:8080/"
        },
        "id": "oi9D0mQY7IFC",
        "outputId": "9de70237-2560-434a-8b1b-f24f26fb5326"
      },
      "source": [
        "!pwd"
      ],
      "execution_count": null,
      "outputs": [
        {
          "output_type": "stream",
          "text": [
            "/content\n"
          ],
          "name": "stdout"
        }
      ]
    },
    {
      "cell_type": "code",
      "metadata": {
        "colab": {
          "base_uri": "https://localhost:8080/"
        },
        "id": "KQLtScobQfXb",
        "outputId": "34e15d78-11c7-4a7f-ab64-6328e3420303"
      },
      "source": [
        "%cd drive/MyDrive/Colab\\ Notebooks/face_mask_detection"
      ],
      "execution_count": null,
      "outputs": [
        {
          "output_type": "stream",
          "text": [
            "/content/drive/MyDrive/Colab Notebooks/face_mask_detection\n"
          ],
          "name": "stdout"
        }
      ]
    },
    {
      "cell_type": "code",
      "metadata": {
        "id": "XNSWA6xkeBbE"
      },
      "source": [
        "INIT_LR = 1e-4\n",
        "EPOCHS = 50\n",
        "BS = 32"
      ],
      "execution_count": null,
      "outputs": []
    },
    {
      "cell_type": "code",
      "metadata": {
        "colab": {
          "base_uri": "https://localhost:8080/"
        },
        "id": "Uh7n81GIeNsU",
        "outputId": "f7c004b6-b707-4c59-eb7f-2d7b3259f875"
      },
      "source": [
        "print(\"[INFO] loading images...\")\n",
        "imageTrainPaths = list(paths.list_images('New Masks Dataset/Train'))\n",
        "imageTestPaths = list(paths.list_images('New Masks Dataset/Test'))\n",
        "imageValidPaths = list(paths.list_images('New Masks Dataset/Validation'))"
      ],
      "execution_count": null,
      "outputs": [
        {
          "output_type": "stream",
          "text": [
            "[INFO] loading images...\n"
          ],
          "name": "stdout"
        }
      ]
    },
    {
      "cell_type": "code",
      "metadata": {
        "id": "01NwintYQf8W"
      },
      "source": [
        "def splitImageLabel(imagePaths):\n",
        "  random.shuffle(imagePaths)\n",
        "  data = []\n",
        "  labels = []\n",
        "\n",
        "  for imagePath in imagePaths:\n",
        "    #print(imagePath.split(os.path.sep)[-2])\n",
        "    label = imagePath.split(os.path.sep)[-2]\n",
        "\n",
        "    image = load_img(imagePath, target_size=(224, 224))\n",
        "    image = img_to_array(image)\n",
        "    image = preprocess_input(image)\n",
        "\n",
        "    data.append(image)\n",
        "    labels.append(label)\n",
        "\n",
        "  return data, labels"
      ],
      "execution_count": 9,
      "outputs": []
    },
    {
      "cell_type": "code",
      "metadata": {
        "id": "HxRbcMxwpM8h"
      },
      "source": [
        "trainData, trainLabels = splitImageLabel(imageTrainPaths)\n",
        "validData, validLabels = splitImageLabel(imageValidPaths)\n",
        "testData, testLabels = splitImageLabel(imageTestPaths)"
      ],
      "execution_count": 10,
      "outputs": []
    },
    {
      "cell_type": "code",
      "metadata": {
        "colab": {
          "base_uri": "https://localhost:8080/"
        },
        "id": "Y-VomC0CKbw7",
        "outputId": "6e57e90d-e3c0-40fc-86a6-f4183a37b218"
      },
      "source": [
        "print(f'Length of trainData:{len(trainData)}')\n",
        "print(f'Length of validData:{len(trainData)}')\n",
        "print(f'Length of testData:{len(trainData)}')"
      ],
      "execution_count": 11,
      "outputs": [
        {
          "output_type": "stream",
          "text": [
            "Length of trainData:600\n",
            "Length of validData:600\n",
            "Length of testData:600\n"
          ],
          "name": "stdout"
        }
      ]
    },
    {
      "cell_type": "code",
      "metadata": {
        "id": "qgN6TzqXkTAJ"
      },
      "source": [
        "def labelBinarize(data, Labels, lb):\n",
        "  data = np.array(data, dtype='float32')\n",
        "  Labels = np.array(Labels)\n",
        "  #lb = LabelBinarizer()\n",
        "  Labels = lb.fit_transform(Labels)\n",
        "  Labels = to_categorical(Labels)\n",
        "  return data, Labels"
      ],
      "execution_count": 12,
      "outputs": []
    },
    {
      "cell_type": "code",
      "metadata": {
        "id": "c0k5Db5yQgJB"
      },
      "source": [
        "lb = LabelBinarizer()\n",
        "\n",
        "trainData, trainLabels = labelBinarize(trainData, trainLabels, lb)\n",
        "validData, validLabels = labelBinarize(validData, validLabels, lb)\n",
        "testData, testLabels = labelBinarize(testData, testLabels, lb)"
      ],
      "execution_count": 13,
      "outputs": []
    },
    {
      "cell_type": "code",
      "metadata": {
        "id": "v9L_TYLDmxrD"
      },
      "source": [
        "aug = ImageDataGenerator(\n",
        "    rotation_range=20,\n",
        "    zoom_range=0.15,\n",
        "    width_shift_range=0.2,\n",
        "    height_shift_range=0.2,\n",
        "    shear_range=0.15,\n",
        "    horizontal_flip=True,\n",
        "    fill_mode='nearest'\n",
        ")"
      ],
      "execution_count": 14,
      "outputs": []
    },
    {
      "cell_type": "code",
      "metadata": {
        "colab": {
          "base_uri": "https://localhost:8080/"
        },
        "id": "cUAyazqKmxnT",
        "outputId": "010d8710-796f-4ee6-9eac-6a2d280fe890"
      },
      "source": [
        "baseModel = MobileNetV2(weights='imagenet', include_top=False,\n",
        "                        input_tensor=Input(shape=(224, 224, 3)))"
      ],
      "execution_count": 15,
      "outputs": [
        {
          "output_type": "stream",
          "text": [
            "WARNING:tensorflow:`input_shape` is undefined or non-square, or `rows` is not in [96, 128, 160, 192, 224]. Weights for input shape (224, 224) will be loaded as the default.\n",
            "Downloading data from https://storage.googleapis.com/tensorflow/keras-applications/mobilenet_v2/mobilenet_v2_weights_tf_dim_ordering_tf_kernels_1.0_224_no_top.h5\n",
            "9412608/9406464 [==============================] - 0s 0us/step\n"
          ],
          "name": "stdout"
        }
      ]
    },
    {
      "cell_type": "code",
      "metadata": {
        "id": "TLzvBKM4mxkR"
      },
      "source": [
        "headModel = baseModel.output\n",
        "headModel = AveragePooling2D(pool_size=(7, 7))(headModel)\n",
        "headModel = Flatten(name='flatten')(headModel)\n",
        "headModel = Dense(128, activation='relu')(headModel)\n",
        "headModel = Dropout(0.5)(headModel)\n",
        "headModel = Dense(2, activation='softmax')(headModel)"
      ],
      "execution_count": 16,
      "outputs": []
    },
    {
      "cell_type": "code",
      "metadata": {
        "id": "G2DUVJCauk6e"
      },
      "source": [
        "model = Model(inputs=baseModel.input, outputs=headModel)"
      ],
      "execution_count": 17,
      "outputs": []
    },
    {
      "cell_type": "code",
      "metadata": {
        "id": "7UDLGaNFmxht"
      },
      "source": [
        "#model.summary()"
      ],
      "execution_count": 18,
      "outputs": []
    },
    {
      "cell_type": "code",
      "metadata": {
        "id": "7uVrHxq1mxfs"
      },
      "source": [
        "for layer in baseModel.layers:\n",
        "  layer.trainable = False"
      ],
      "execution_count": 19,
      "outputs": []
    },
    {
      "cell_type": "code",
      "metadata": {
        "colab": {
          "base_uri": "https://localhost:8080/"
        },
        "id": "cVwtAjPtmxb6",
        "outputId": "bc44fa93-67a7-4a0a-ab30-ff5ae36eb090"
      },
      "source": [
        "print(\"[INFO] compiling...\")\n",
        "opt = Adam(learning_rate=INIT_LR, decay=INIT_LR/EPOCHS)\n",
        "model.compile(loss='binary_crossentropy', optimizer=opt,\n",
        "              metrics=[\"accuracy\"])"
      ],
      "execution_count": 20,
      "outputs": [
        {
          "output_type": "stream",
          "text": [
            "[INFO] compiling...\n"
          ],
          "name": "stdout"
        }
      ]
    },
    {
      "cell_type": "code",
      "metadata": {
        "colab": {
          "base_uri": "https://localhost:8080/"
        },
        "id": "Wq7zD9bwmxZf",
        "outputId": "f8aa060f-62be-4a77-80dc-e486413417fd"
      },
      "source": [
        "history = model.fit(aug.flow(trainData, trainLabels, batch_size=BS),\n",
        "                    #steps_per_epoch=len(trainData)//BS,\n",
        "                    validation_data=(validData, validLabels),\n",
        "                    #validation_steps=len(validData)//BS,\n",
        "                    epochs=EPOCHS)"
      ],
      "execution_count": 21,
      "outputs": [
        {
          "output_type": "stream",
          "text": [
            "Epoch 1/50\n",
            "19/19 [==============================] - 39s 358ms/step - loss: 0.7214 - accuracy: 0.5650 - val_loss: 0.4713 - val_accuracy: 0.8922\n",
            "Epoch 2/50\n",
            "19/19 [==============================] - 6s 321ms/step - loss: 0.4417 - accuracy: 0.8533 - val_loss: 0.3066 - val_accuracy: 0.9510\n",
            "Epoch 3/50\n",
            "19/19 [==============================] - 6s 310ms/step - loss: 0.2996 - accuracy: 0.9233 - val_loss: 0.2214 - val_accuracy: 0.9641\n",
            "Epoch 4/50\n",
            "19/19 [==============================] - 6s 311ms/step - loss: 0.2378 - accuracy: 0.9400 - val_loss: 0.1714 - val_accuracy: 0.9641\n",
            "Epoch 5/50\n",
            "19/19 [==============================] - 6s 309ms/step - loss: 0.1722 - accuracy: 0.9617 - val_loss: 0.1403 - val_accuracy: 0.9739\n",
            "Epoch 6/50\n",
            "19/19 [==============================] - 6s 312ms/step - loss: 0.1573 - accuracy: 0.9733 - val_loss: 0.1195 - val_accuracy: 0.9739\n",
            "Epoch 7/50\n",
            "19/19 [==============================] - 6s 313ms/step - loss: 0.1246 - accuracy: 0.9817 - val_loss: 0.1048 - val_accuracy: 0.9804\n",
            "Epoch 8/50\n",
            "19/19 [==============================] - 6s 308ms/step - loss: 0.1050 - accuracy: 0.9750 - val_loss: 0.0951 - val_accuracy: 0.9771\n",
            "Epoch 9/50\n",
            "19/19 [==============================] - 6s 307ms/step - loss: 0.0957 - accuracy: 0.9800 - val_loss: 0.0876 - val_accuracy: 0.9771\n",
            "Epoch 10/50\n",
            "19/19 [==============================] - 6s 308ms/step - loss: 0.0920 - accuracy: 0.9667 - val_loss: 0.0827 - val_accuracy: 0.9771\n",
            "Epoch 11/50\n",
            "19/19 [==============================] - 6s 323ms/step - loss: 0.0734 - accuracy: 0.9883 - val_loss: 0.0798 - val_accuracy: 0.9771\n",
            "Epoch 12/50\n",
            "19/19 [==============================] - 6s 317ms/step - loss: 0.0640 - accuracy: 0.9900 - val_loss: 0.0781 - val_accuracy: 0.9706\n",
            "Epoch 13/50\n",
            "19/19 [==============================] - 6s 309ms/step - loss: 0.0619 - accuracy: 0.9867 - val_loss: 0.0735 - val_accuracy: 0.9739\n",
            "Epoch 14/50\n",
            "19/19 [==============================] - 6s 312ms/step - loss: 0.0611 - accuracy: 0.9883 - val_loss: 0.0705 - val_accuracy: 0.9771\n",
            "Epoch 15/50\n",
            "19/19 [==============================] - 6s 311ms/step - loss: 0.0514 - accuracy: 0.9917 - val_loss: 0.0701 - val_accuracy: 0.9739\n",
            "Epoch 16/50\n",
            "19/19 [==============================] - 6s 314ms/step - loss: 0.0523 - accuracy: 0.9900 - val_loss: 0.0667 - val_accuracy: 0.9771\n",
            "Epoch 17/50\n",
            "19/19 [==============================] - 6s 316ms/step - loss: 0.0420 - accuracy: 0.9933 - val_loss: 0.0676 - val_accuracy: 0.9739\n",
            "Epoch 18/50\n",
            "19/19 [==============================] - 6s 316ms/step - loss: 0.0436 - accuracy: 0.9883 - val_loss: 0.0649 - val_accuracy: 0.9771\n",
            "Epoch 19/50\n",
            "19/19 [==============================] - 6s 316ms/step - loss: 0.0357 - accuracy: 0.9950 - val_loss: 0.0632 - val_accuracy: 0.9739\n",
            "Epoch 20/50\n",
            "19/19 [==============================] - 6s 315ms/step - loss: 0.0378 - accuracy: 0.9933 - val_loss: 0.0662 - val_accuracy: 0.9739\n",
            "Epoch 21/50\n",
            "19/19 [==============================] - 6s 320ms/step - loss: 0.0378 - accuracy: 0.9933 - val_loss: 0.0638 - val_accuracy: 0.9739\n",
            "Epoch 22/50\n",
            "19/19 [==============================] - 6s 326ms/step - loss: 0.0416 - accuracy: 0.9900 - val_loss: 0.0633 - val_accuracy: 0.9739\n",
            "Epoch 23/50\n",
            "19/19 [==============================] - 6s 318ms/step - loss: 0.0415 - accuracy: 0.9867 - val_loss: 0.0625 - val_accuracy: 0.9739\n",
            "Epoch 24/50\n",
            "19/19 [==============================] - 6s 321ms/step - loss: 0.0331 - accuracy: 0.9933 - val_loss: 0.0604 - val_accuracy: 0.9771\n",
            "Epoch 25/50\n",
            "19/19 [==============================] - 6s 319ms/step - loss: 0.0251 - accuracy: 1.0000 - val_loss: 0.0615 - val_accuracy: 0.9739\n",
            "Epoch 26/50\n",
            "19/19 [==============================] - 6s 315ms/step - loss: 0.0238 - accuracy: 0.9983 - val_loss: 0.0626 - val_accuracy: 0.9739\n",
            "Epoch 27/50\n",
            "19/19 [==============================] - 6s 316ms/step - loss: 0.0330 - accuracy: 0.9933 - val_loss: 0.0599 - val_accuracy: 0.9771\n",
            "Epoch 28/50\n",
            "19/19 [==============================] - 6s 313ms/step - loss: 0.0228 - accuracy: 0.9967 - val_loss: 0.0638 - val_accuracy: 0.9739\n",
            "Epoch 29/50\n",
            "19/19 [==============================] - 6s 315ms/step - loss: 0.0290 - accuracy: 0.9950 - val_loss: 0.0638 - val_accuracy: 0.9739\n",
            "Epoch 30/50\n",
            "19/19 [==============================] - 6s 316ms/step - loss: 0.0334 - accuracy: 0.9917 - val_loss: 0.0581 - val_accuracy: 0.9771\n",
            "Epoch 31/50\n",
            "19/19 [==============================] - 6s 317ms/step - loss: 0.0259 - accuracy: 0.9950 - val_loss: 0.0585 - val_accuracy: 0.9739\n",
            "Epoch 32/50\n",
            "19/19 [==============================] - 6s 317ms/step - loss: 0.0225 - accuracy: 0.9967 - val_loss: 0.0586 - val_accuracy: 0.9739\n",
            "Epoch 33/50\n",
            "19/19 [==============================] - 6s 317ms/step - loss: 0.0328 - accuracy: 0.9917 - val_loss: 0.0580 - val_accuracy: 0.9739\n",
            "Epoch 34/50\n",
            "19/19 [==============================] - 6s 327ms/step - loss: 0.0214 - accuracy: 0.9950 - val_loss: 0.0573 - val_accuracy: 0.9771\n",
            "Epoch 35/50\n",
            "19/19 [==============================] - 6s 314ms/step - loss: 0.0168 - accuracy: 0.9983 - val_loss: 0.0578 - val_accuracy: 0.9739\n",
            "Epoch 36/50\n",
            "19/19 [==============================] - 6s 326ms/step - loss: 0.0238 - accuracy: 0.9933 - val_loss: 0.0563 - val_accuracy: 0.9739\n",
            "Epoch 37/50\n",
            "19/19 [==============================] - 6s 314ms/step - loss: 0.0262 - accuracy: 0.9933 - val_loss: 0.0615 - val_accuracy: 0.9739\n",
            "Epoch 38/50\n",
            "19/19 [==============================] - 6s 316ms/step - loss: 0.0163 - accuracy: 1.0000 - val_loss: 0.0636 - val_accuracy: 0.9739\n",
            "Epoch 39/50\n",
            "19/19 [==============================] - 6s 314ms/step - loss: 0.0172 - accuracy: 0.9967 - val_loss: 0.0568 - val_accuracy: 0.9739\n",
            "Epoch 40/50\n",
            "19/19 [==============================] - 6s 313ms/step - loss: 0.0208 - accuracy: 0.9967 - val_loss: 0.0563 - val_accuracy: 0.9771\n",
            "Epoch 41/50\n",
            "19/19 [==============================] - 6s 316ms/step - loss: 0.0201 - accuracy: 0.9967 - val_loss: 0.0554 - val_accuracy: 0.9771\n",
            "Epoch 42/50\n",
            "19/19 [==============================] - 6s 316ms/step - loss: 0.0198 - accuracy: 0.9917 - val_loss: 0.0580 - val_accuracy: 0.9739\n",
            "Epoch 43/50\n",
            "19/19 [==============================] - 6s 315ms/step - loss: 0.0182 - accuracy: 0.9967 - val_loss: 0.0585 - val_accuracy: 0.9739\n",
            "Epoch 44/50\n",
            "19/19 [==============================] - 6s 316ms/step - loss: 0.0136 - accuracy: 0.9983 - val_loss: 0.0576 - val_accuracy: 0.9739\n",
            "Epoch 45/50\n",
            "19/19 [==============================] - 6s 314ms/step - loss: 0.0159 - accuracy: 0.9950 - val_loss: 0.0574 - val_accuracy: 0.9739\n",
            "Epoch 46/50\n",
            "19/19 [==============================] - 6s 315ms/step - loss: 0.0169 - accuracy: 0.9967 - val_loss: 0.0571 - val_accuracy: 0.9771\n",
            "Epoch 47/50\n",
            "19/19 [==============================] - 6s 318ms/step - loss: 0.0116 - accuracy: 1.0000 - val_loss: 0.0586 - val_accuracy: 0.9739\n",
            "Epoch 48/50\n",
            "19/19 [==============================] - 6s 317ms/step - loss: 0.0184 - accuracy: 0.9950 - val_loss: 0.0589 - val_accuracy: 0.9739\n",
            "Epoch 49/50\n",
            "19/19 [==============================] - 6s 313ms/step - loss: 0.0145 - accuracy: 0.9983 - val_loss: 0.0591 - val_accuracy: 0.9739\n",
            "Epoch 50/50\n",
            "19/19 [==============================] - 6s 311ms/step - loss: 0.0166 - accuracy: 0.9917 - val_loss: 0.0602 - val_accuracy: 0.9706\n"
          ],
          "name": "stdout"
        }
      ]
    },
    {
      "cell_type": "code",
      "metadata": {
        "colab": {
          "base_uri": "https://localhost:8080/"
        },
        "id": "aG1ySSbpmxWN",
        "outputId": "8c44dd83-c268-4041-d2bc-72cc9fc6f35d"
      },
      "source": [
        "print('[INFO] evaluating network...')\n",
        "predIdxs = model.predict(testData, batch_size=BS)"
      ],
      "execution_count": 22,
      "outputs": [
        {
          "output_type": "stream",
          "text": [
            "[INFO] evaluating network...\n"
          ],
          "name": "stdout"
        }
      ]
    },
    {
      "cell_type": "code",
      "metadata": {
        "id": "eUS41FPHmxTl"
      },
      "source": [
        "predIdxs = np.argmax(predIdxs, axis=1)"
      ],
      "execution_count": 23,
      "outputs": []
    },
    {
      "cell_type": "code",
      "metadata": {
        "colab": {
          "base_uri": "https://localhost:8080/"
        },
        "id": "AED_oojDmxRX",
        "outputId": "b9abbd42-cf0e-4fd2-956a-b40fa6c73f14"
      },
      "source": [
        "print(classification_report(testLabels.argmax(axis=1), predIdxs,\n",
        "                            target_names=lb.classes_))"
      ],
      "execution_count": 24,
      "outputs": [
        {
          "output_type": "stream",
          "text": [
            "              precision    recall  f1-score   support\n",
            "\n",
            "        Mask       1.00      1.00      1.00        50\n",
            "    Non Mask       1.00      1.00      1.00        50\n",
            "\n",
            "    accuracy                           1.00       100\n",
            "   macro avg       1.00      1.00      1.00       100\n",
            "weighted avg       1.00      1.00      1.00       100\n",
            "\n"
          ],
          "name": "stdout"
        }
      ]
    },
    {
      "cell_type": "code",
      "metadata": {
        "id": "AWGMlMgqmxNx",
        "colab": {
          "base_uri": "https://localhost:8080/"
        },
        "outputId": "b8fc4a85-2138-4166-c999-2fa5293c25f4"
      },
      "source": [
        "print(\"[INFO] saving face mask detector model...\")\n",
        "model.save('face_mask_detector.model', save_format='h5')"
      ],
      "execution_count": 25,
      "outputs": [
        {
          "output_type": "stream",
          "text": [
            "[INFO] saving face mask detector model...\n"
          ],
          "name": "stdout"
        },
        {
          "output_type": "stream",
          "text": [
            "/usr/local/lib/python3.7/dist-packages/tensorflow/python/keras/utils/generic_utils.py:497: CustomMaskWarning: Custom mask layers require a config and must override get_config. When loading, the custom mask layer must be passed to the custom_objects argument.\n",
            "  category=CustomMaskWarning)\n"
          ],
          "name": "stderr"
        }
      ]
    },
    {
      "cell_type": "code",
      "metadata": {
        "id": "zHp3RRGvmxLK",
        "colab": {
          "base_uri": "https://localhost:8080/",
          "height": 734
        },
        "outputId": "f0d92b1e-a5b8-4e07-ad5d-cc4fe3c75a05"
      },
      "source": [
        "N = EPOCHS\n",
        "H = history\n",
        "\n",
        "plt.style.use('ggplot')\n",
        "plt.figure(figsize=(20, 12))\n",
        "plt.plot(np.arange(0, N), H.history['loss'], label='train_loss')\n",
        "plt.plot(np.arange(0, N), H.history['val_loss'], label='val_loss')\n",
        "plt.plot(np.arange(0, N), H.history['accuracy'], label='train_accuracy')\n",
        "plt.plot(np.arange(0, N), H.history['val_accuracy'], label='val_acc')\n",
        "plt.title('Training Loss and Accuracy')\n",
        "plt.xlabel('Epochs #')\n",
        "plt.ylabel('Loss/Accuracy')\n",
        "plt.legend(loc='center right')\n",
        "plt.savefig('plot.png')\n",
        "plt.show()"
      ],
      "execution_count": 30,
      "outputs": [
        {
          "output_type": "display_data",
          "data": {
            "image/png": "[encoded data removed]",
            "text/plain": [
              "<Figure size 1440x864 with 1 Axes>"
            ]
          },
          "metadata": {
            "tags": []
          }
        }
      ]
    },
    {
      "cell_type": "code",
      "metadata": {
        "id": "UOvNgjs6mxIf"
      },
      "source": [
        ""
      ],
      "execution_count": null,
      "outputs": []
    },
    {
      "cell_type": "code",
      "metadata": {
        "id": "O83sC-V0mxGe"
      },
      "source": [
        ""
      ],
      "execution_count": null,
      "outputs": []
    },
    {
      "cell_type": "code",
      "metadata": {
        "id": "Am5I65d3mxC-"
      },
      "source": [
        ""
      ],
      "execution_count": null,
      "outputs": []
    },
    {
      "cell_type": "code",
      "metadata": {
        "id": "2n64Sn_PmxAX"
      },
      "source": [
        ""
      ],
      "execution_count": null,
      "outputs": []
    },
    {
      "cell_type": "code",
      "metadata": {
        "id": "l442H0xPmw97"
      },
      "source": [
        ""
      ],
      "execution_count": null,
      "outputs": []
    },
    {
      "cell_type": "code",
      "metadata": {
        "id": "UqSzwVlDmw6r"
      },
      "source": [
        ""
      ],
      "execution_count": null,
      "outputs": []
    },
    {
      "cell_type": "code",
      "metadata": {
        "id": "NXYw9H9dmw4O"
      },
      "source": [
        ""
      ],
      "execution_count": null,
      "outputs": []
    },
    {
      "cell_type": "code",
      "metadata": {
        "id": "8iuEsJvjmw1V"
      },
      "source": [
        ""
      ],
      "execution_count": null,
      "outputs": []
    },
    {
      "cell_type": "code",
      "metadata": {
        "id": "l8YauNJFmwy0"
      },
      "source": [
        ""
      ],
      "execution_count": null,
      "outputs": []
    },
    {
      "cell_type": "code",
      "metadata": {
        "id": "7hUuC7FmmwvQ"
      },
      "source": [
        ""
      ],
      "execution_count": null,
      "outputs": []
    },
    {
      "cell_type": "code",
      "metadata": {
        "id": "NkPnmxoAmwsi"
      },
      "source": [
        ""
      ],
      "execution_count": null,
      "outputs": []
    },
    {
      "cell_type": "code",
      "metadata": {
        "id": "uaVILK2Umwpe"
      },
      "source": [
        ""
      ],
      "execution_count": null,
      "outputs": []
    },
    {
      "cell_type": "code",
      "metadata": {
        "id": "wZnc-kS0mwmN"
      },
      "source": [
        ""
      ],
      "execution_count": null,
      "outputs": []
    },
    {
      "cell_type": "code",
      "metadata": {
        "id": "ocMWFiKxmwdH"
      },
      "source": [
        ""
      ],
      "execution_count": null,
      "outputs": []
    },
    {
      "cell_type": "code",
      "metadata": {
        "id": "hP5Q-TO-mwOM"
      },
      "source": [
        ""
      ],
      "execution_count": null,
      "outputs": []
    },
    {
      "cell_type": "code",
      "metadata": {
        "id": "OeufqhW2athZ"
      },
      "source": [
        ""
      ],
      "execution_count": null,
      "outputs": []
    }
  ]
}